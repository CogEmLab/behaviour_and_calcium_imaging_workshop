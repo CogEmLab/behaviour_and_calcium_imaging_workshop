{
  "cells": [
    {
      "cell_type": "markdown",
      "metadata": {
        "id": "RK255E7YoEIt"
      },
      "source": [
        "# DeepLabCut Toolbox - Colab for standard (single animal) projects!\n",
        "\n",
        "This notebook is a modified version of the demonstration notebook provided by <font color=\"green\">DeepLabCut</font>. For the original version, refer to the [GitHub page of DeepLabCut](https://github.com/DeepLabCut/DeepLabCut).\n",
        "\n",
        "![DeepLabCut GIF](https://images.squarespace-cdn.com/content/v1/57f6d51c9f74566f55ecf271/1619609897110-TKSTWKEM6HTGXID9D489/triMouseDLC.gif?format=2500w)\n",
        "\n",
        "This notebook illustrates how to use the cloud to:\n",
        "- create a training set  \n",
        "- train a network  \n",
        "- evaluate a network  \n",
        "- create simple quality check plots  \n",
        "- analyze novel videos\n",
        "\n",
        "> **Note:** This notebook assumes you already have a DeepLabCut project folder with labeled data, which we have previously saved on Google Drive.\n",
        "\n",
        "This notebook demonstrates the necessary steps to use <font color=\"green\">DeepLabCut</font> for your own project.\n",
        "\n",
        "We use the most basic code here, but many functions have additional features. For detailed explanations of each step, please refer to the official documentation:\n",
        "\n",
        "📚 **DeepLabCut Documentation**: [https://deeplabcut.github.io/DeepLabCut/docs/standardDeepLabCut_UserGuide.html](https://deeplabcut.github.io/DeepLabCut/docs/standardDeepLabCut_UserGuide.html)\n",
        "\n",
        "📝 Paper reference:  \n",
        "Nath\\*, Mathis\\* et al. (2019): *Using DeepLabCut for markerless pose estimation during behavior across species.*  \n",
        "**Nature Protocols**  \n",
        "🔗 [Read the paper](https://www.nature.com/articles/s41596-019-0176-0)\n",
        "\n",
        "------------"
      ]
    },
    {
      "cell_type": "markdown",
      "metadata": {
        "id": "txoddlM8hLKm"
      },
      "source": [
        "## 🔧 Step 1: Install Required Packages and Dependencies\n",
        "\n",
        "We will install the specific versions of TensorFlow, PyTorch, and DeepLabCut optimized for CUDA 11.8 and cuDNN 8, which are compatible with the Colab environment.\n",
        "\n",
        "### What the commands do:\n",
        "\n",
        "- **Install TensorFlow 2.12.1**, built for CUDA 11.8 and cuDNN 8, along with required packages `tensorpack` and `tf_slim`.  \n",
        "- **Downgrade PyTorch to version 2.3.1**, which supports CUDA 11.8 and installs necessary CUDA libraries for both PyTorch and TensorFlow.  \n",
        "- **Install DeepLabCut directly from the latest GitHub source** to ensure you get the newest features and fixes.  \n",
        "- **Create symbolic links for NVIDIA shared libraries** as recommended by TensorFlow's official installation instructions to fix potential runtime library issues.\n",
        "\n",
        "Now, run the cell below:\n"
      ]
    },
    {
      "cell_type": "code",
      "execution_count": null,
      "metadata": {
        "colab": {
          "base_uri": "https://localhost:8080/",
          "height": 1000
        },
        "id": "q23BzhA6CXxu",
        "outputId": "93fa879a-c13b-4482-a604-95208f024055"
      },
      "outputs": [],
      "source": [
        "# Install the desired TensorFlow version, built for CUDA 11.8 and cudnn 8\n",
        "!pip install \"tensorflow==2.12.1\" \"tensorpack>=0.11\" \"tf_slim>=1.1.0\"\n",
        "\n",
        "# Downgrade PyTorch to a version using CUDA 11.8 and cudnn 8\n",
        "#   This should also install the required CUDA libraries, for both PyTorch and TensorFlow\n",
        "!pip install torch==2.3.1 torchvision --index-url https://download.pytorch.org/whl/cu118\n",
        "\n",
        "# Install DeepLabCut\n",
        "!pip install \"git+https://github.com/DeepLabCut/DeepLabCut.git\"\n",
        "\n",
        "# As described in https://www.tensorflow.org/install/pip#step-by-step_instructions, \n",
        "# create symbolic links to NVIDIA shared libraries:\n",
        "!ln -svf /usr/local/lib/python3.11/dist-packages/nvidia/*/lib/*.so* /usr/local/lib/python3.11/dist-packages/tensorflow\n"
      ]
    },
    {
      "cell_type": "markdown",
      "metadata": {},
      "source": [
        "After installing the packages, it's important to confirm that both TensorFlow and PyTorch can access the GPU.  \n",
        "This check will print the installed versions and verify that the GPU is available and working correctly.\n",
        "\n",
        "### What this code does:\n",
        "\n",
        "- Imports TensorFlow and PyTorch libraries.\n",
        "- Prints the PyTorch version and checks if CUDA (GPU support) is available.\n",
        "- Creates a small tensor on the GPU using PyTorch to confirm it can allocate GPU memory.\n",
        "- Prints the TensorFlow version and lists available physical GPU devices.\n"
      ]
    },
    {
      "cell_type": "code",
      "execution_count": null,
      "metadata": {},
      "outputs": [],
      "source": [
        "import tensorflow as tf\n",
        "import torch\n",
        "\n",
        "# Print PyTorch version and GPU availability status\n",
        "print(f\"Torch {torch.__version__}    \", torch.cuda.is_available())\n",
        "\n",
        "# Create a tensor on the GPU to test PyTorch GPU functionality\n",
        "print(f\"{torch.zeros(5, device='cuda:0')}\")\n",
        "\n",
        "# Print TensorFlow version and list detected GPU devices\n",
        "print(f\"TensorFlow {tf.__version__}    \", tf.config.list_physical_devices(\"GPU\"))\n",
        "\n",
        "# Expected output:\n",
        "# Torch 2.3.1+cu118     True\n",
        "# tensor([0., 0., 0., 0., 0.], device='cuda:0')\n",
        "# TensorFlow 2.12.1     [PhysicalDevice(name='/physical_device:GPU:0', device_type='GPU')]"
      ]
    },
    {
      "cell_type": "markdown",
      "metadata": {
        "id": "25wSj6TlVclR"
      },
      "source": [
        "✅ After installation, you may be prompted to restart the runtime.  \n",
        "If so, go to the menu: **Runtime → Restart runtime**, then re-run the notebook from here.\n",
        "\n",
        "Once everything is installed, we’re ready to set up the project and start working with videos!\n",
        "\n",
        "---\n"
      ]
    },
    {
      "cell_type": "markdown",
      "metadata": {
        "id": "cQ-nlTkri4HZ"
      },
      "source": [
        "## 🚀 Step 2: Access Your Data from Google Drive\n",
        "\n",
        "We will use Google Drive to store and access your project files (videos, labels, config, etc.) in Colab.\n",
        "\n",
        "### Why mount Google Drive?  \n",
        "Colab sessions are temporary and files are erased after the runtime disconnects. Mounting Google Drive lets you easily access your persistent files stored in the cloud.\n",
        "\n",
        "### What does the code do?  \n",
        "- **Mounts your Google Drive** so Colab can read files stored there.  \n",
        "- **Copies a project folder** from your Drive to the Colab local environment for faster access during processing.\n",
        "\n",
        "> 🔑 **Important:** Update the `source_folder` path to point to your actual folder in Google Drive! Most likely it will not be needed if you did everything according to instructions but it is worth to double-check!"
      ]
    },
    {
      "cell_type": "code",
      "execution_count": null,
      "metadata": {
        "colab": {
          "base_uri": "https://localhost:8080/"
        },
        "id": "KS4Q4UkR9rgG",
        "outputId": "30cb6a9f-6e68-415a-8c70-384eac5f6b6a"
      },
      "outputs": [],
      "source": [
        "from google.colab import drive\n",
        "import shutil\n",
        "\n",
        "# Mount Google Drive\n",
        "drive.mount('/content/drive')\n",
        "\n",
        "# Define source and destination paths\n",
        "source_folder = '/content/drive/MyDrive/behavior&calcium-imaging-workshop'  # Update with your shared folder path\n",
        "destination_folder = '/content/behavior&calcium-imaging-workshop'  # Content folder in Colab\n",
        "\n",
        "# Copy files from source to destination folder\n",
        "shutil.copytree(source_folder, destination_folder)\n",
        "\n",
        "print(\"Files copied successfully!\")"
      ]
    },
    {
      "cell_type": "markdown",
      "metadata": {
        "id": "Frnj1RVDyEqs"
      },
      "source": [
        "---\n",
        "\n",
        "## Step 3: Now we can start configuring the project!\n",
        "\n",
        "Now we define some key variables that tell DeepLabCut where your project files are and what kind of videos you want to analyze.\n",
        "\n",
        "### What are these variables?\n",
        "\n",
        "- `ProjectFolderName`:  \n",
        "  The name of your DeepLabCut project folder.  \n",
        "  This should match the folder where your labeled data and config file are stored.\n",
        "\n",
        "- `VideoType`:  \n",
        "  The video file format you want to analyze (e.g., `'mp4'`, `'avi'`, `'mov'`).\n",
        "\n",
        "- `videofile_path` (do not edit):  \n",
        "  This is the full path to the folder or list of videos that you want DeepLabCut to process.  \n",
        "  Here, it points to the local folder in Colab where we copied your videos from Google Drive.\n"
      ]
    },
    {
      "cell_type": "code",
      "execution_count": null,
      "metadata": {
        "colab": {
          "base_uri": "https://localhost:8080/"
        },
        "id": "vhENAlQnFENJ",
        "outputId": "1c3eeca1-efc5-404c-fea4-42c9763f2f11"
      },
      "outputs": [],
      "source": [
        "# Customize these:\n",
        "ProjectFolderName = 'workshop-network-2025'  # Your project folder name\n",
        "VideoType = 'mp4'                            # Format of videos you want to analyze\n",
        "\n",
        "# Do not edit this:\n",
        "videofile_path = ['/content/behavior&calcium-imaging-workshop/data/behavior-videos']  # Path to your video files\n",
        "\n",
        "# Show the path to confirm\n",
        "videofile_path"
      ]
    },
    {
      "cell_type": "code",
      "execution_count": null,
      "metadata": {
        "colab": {
          "base_uri": "https://localhost:8080/"
        },
        "id": "3K9Ndy1beyfG",
        "outputId": "c81eabff-009a-49c0-9690-db8df61770d4"
      },
      "outputs": [],
      "source": [
        "# Import DeepLabCut package\n",
        "import deeplabcut\n",
        "\n",
        "# Print the currently installed DeepLabCut version\n",
        "print(\"DeepLabCut version:\", deeplabcut.__version__)"
      ]
    },
    {
      "cell_type": "code",
      "execution_count": null,
      "metadata": {
        "colab": {
          "base_uri": "https://localhost:8080/",
          "height": 35
        },
        "id": "Z7ZlDr3wV4D1",
        "outputId": "af3c2ba0-c438-4581-d389-91279f2f354b"
      },
      "outputs": [],
      "source": [
        "#This creates a path variable that links to your google drive copy\n",
        "#No need to edit this, as you set it up before:\n",
        "path_config_file = '/content/behavior&calcium-imaging-workshop/'+ProjectFolderName+'/config.yaml'\n",
        "path_config_file"
      ]
    },
    {
      "cell_type": "markdown",
      "metadata": {
        "id": "xNi9s1dboEJN"
      },
      "source": [
        "---\n",
        "\n",
        "## Step 4: Create a training dataset:\n",
        "### You must do this step inside of Colab:\n",
        "After running this script the training dataset is created and saved in the project directory under the subdirectory **'training-datasets'**\n",
        "\n",
        "This function also creates new subdirectories under **dlc-models** and appends the project config.yaml file with the correct path to the training and testing pose configuration file. These files hold the parameters for training the network. Such an example file is provided with the toolbox and named as **pose_cfg.yaml**.\n",
        "\n",
        "Now it is the time to start training the network!"
      ]
    },
    {
      "cell_type": "code",
      "execution_count": null,
      "metadata": {
        "colab": {
          "base_uri": "https://localhost:8080/"
        },
        "id": "eMeUwgxPoEJP",
        "outputId": "bed2cc49-6a9f-4667-e3a0-6ba4ee324acc",
        "scrolled": true
      },
      "outputs": [],
      "source": [
        "# Then, run this cell. There are many more functions you can set here, including which network to use, you can experiment with the parameters.\n",
        "# Refer to the DeepLabCut User Guide for explaination.\n",
        "\n",
        "deeplabcut.create_training_dataset(path_config_file, net_type='resnet_50', augmenter_type='imgaug')"
      ]
    },
    {
      "cell_type": "markdown",
      "metadata": {
        "id": "XCEU9Vi_j0Nh"
      },
      "source": [
        "In the next cell, we'll be updating the pose configuration file, which contains all the settings necessary for training. This step ensures that we initialize the training process using weights obtained from previous training sessions.\n",
        "\n",
        "This step is crucial because training the network to achieve optimal performance can be time-consuming, often taking several hours. Unfortunately, this duration far exceeds the time constraints of the workshop.\n",
        "\n",
        "### What is a shuffle?\n",
        "\n",
        "In DeepLabCut, a **shuffle** refers to one random split of your labeled data into training and testing subsets.  \n",
        "Because training results can vary depending on which frames are used for training vs. testing, DeepLabCut allows you to create multiple shuffled splits to:\n",
        "\n",
        "- Improve robustness by training multiple models on different data splits  \n",
        "- Evaluate performance consistency across these splits  \n",
        "- Select the best-performing model after training\n",
        "\n",
        "### Important:\n",
        "\n",
        "The **shuffle** number you use here should be the one you created in the previous step, which is most likely `1` if you followed the default settings.\n",
        "\n",
        "By specifying the shuffle number, you tell DeepLabCut which data split to use for this particular training run."
      ]
    },
    {
      "cell_type": "code",
      "execution_count": null,
      "metadata": {
        "id": "zBimBAQJfmr-"
      },
      "outputs": [],
      "source": [
        "import yaml\n",
        "\n",
        "# Define the shuffle number\n",
        "shuffle = 1\n",
        "\n",
        "# Path to the DeepLabCut pose configuration YAML file for the model\n",
        "pose_cfg_path = f'/content/behavior&calcium-imaging-workshop/{ProjectFolderName}/dlc-models/iteration-5/ss_vs_sscwJan30-trainset95shuffle{shuffle}/train/pose_cfg.yaml'\n",
        "\n",
        "# Path to the checkpoint file containing pretrained model weights\n",
        "checkpoint = f'/content/behavior&calcium-imaging-workshop/{ProjectFolderName}/old_dlc-models/iteration-5/ss_vs_sscwJan30-trainset95shuffle2/train/snapshot-100000'\n",
        "\n",
        "# Load the pose_cfg.yaml file content into a Python dictionary\n",
        "with open(pose_cfg_path, 'r') as file:\n",
        "    pose_cfg_content = yaml.safe_load(file)\n",
        "\n",
        "# Update the 'init_weights' field in the config to point to the checkpoint file\n",
        "pose_cfg_content['init_weights'] = checkpoint\n",
        "\n",
        "# Save the updated configuration back to the YAML file\n",
        "with open(pose_cfg_path, 'w') as file:\n",
        "    yaml.dump(pose_cfg_content, file)"
      ]
    },
    {
      "cell_type": "markdown",
      "metadata": {
        "id": "c4FczXGDoEJU"
      },
      "source": [
        "---\n",
        "\n",
        "## Step 5: Start training\n",
        "\n",
        "This function trains the network for a specific **shuffle** of the training dataset."
      ]
    },
    {
      "cell_type": "code",
      "execution_count": null,
      "metadata": {
        "colab": {
          "base_uri": "https://localhost:8080/"
        },
        "id": "_pOvDq_2oEJW",
        "outputId": "42256841-edb1-4354-bb88-29ef838d9559"
      },
      "outputs": [],
      "source": [
        "#let's also change the display and save_iters just in case Colab takes away the GPU...\n",
        "#if that happens, you can reload from a saved point. Typically, you want to train to 200,000 + iterations.\n",
        "#more info and there are more things you can set: https://github.com/DeepLabCut/DeepLabCut/wiki/DOCSTRINGS#train_network\n",
        "\n",
        "deeplabcut.train_network(path_config_file, shuffle=shuffle, displayiters=10,saveiters=50, maxiters=100)\n",
        "\n",
        "#this will run until you stop it (CTRL+C), or hit \"STOP\" icon, or when it hits the end (default, 1.03M iterations).\n",
        "#Whichever you chose, you will see what looks like an error message, but it's not an error - don't worry...."
      ]
    },
    {
      "cell_type": "markdown",
      "metadata": {
        "id": "RiDwIVf5-3H_"
      },
      "source": [
        "**When you hit ``STOP`` you will get a KeyInterrupt ``error``! No worries! :)**"
      ]
    },
    {
      "cell_type": "markdown",
      "metadata": {
        "id": "xZygsb2DoEJc"
      },
      "source": [
        "---\n",
        "\n",
        "## Step 6: Start evaluating:\n",
        "\n",
        "This function assesses a trained model's performance for a specific shuffle or shuffles at a particular state or across all states on the dataset (images). The results are stored as a .csv file in a subdirectory under **evaluation-results**.\n",
        "\n",
        "Look through the results in the **evaluation-results** directory. Additionally, review the very end of the output to identify train and test errors.\n",
        "\n",
        "*How do you judge the model's performance?*"
      ]
    },
    {
      "cell_type": "code",
      "execution_count": null,
      "metadata": {
        "colab": {
          "base_uri": "https://localhost:8080/",
          "height": 1000
        },
        "id": "nv4zlbrnoEJg",
        "outputId": "5ad7266c-cacd-4486-ca1b-33d4183c60f4"
      },
      "outputs": [],
      "source": [
        "%matplotlib notebook\n",
        "deeplabcut.evaluate_network(path_config_file,plotting=True, Shuffles=(shuffle,))\n",
        "\n",
        "# Here you want to see a low pixel error! Of course, it can only be as good as the labeler,\n",
        "# so be sure your labels are good! (And you have trained enough ;)"
      ]
    },
    {
      "cell_type": "markdown",
      "metadata": {
        "id": "BaLBl3TQtrfB"
      },
      "source": [
        "## There is an optional refinement step you can do outside of Colab:\n",
        "- if your pixel errors are not low enough, please check out the protocol guide on how to refine your network!\n",
        "- You will need to adjust the labels **outside of Colab!** We recommend coming back to train and analyze videos...\n",
        "- Please see the repo and protocol instructions on how to refine your data!"
      ]
    },
    {
      "cell_type": "markdown",
      "metadata": {
        "id": "OVFLSKKfoEJk"
      },
      "source": [
        "---\n",
        "\n",
        "## Step 7: Start Analyzing videos (Last one):\n",
        "This function analyzes the new video. The user can choose the best model from the evaluation results and specify the correct snapshot index for the variable **snapshotindex** in the **config.yaml** file. Otherwise, by default the most recent snapshot is used to analyse the video.\n",
        "\n",
        "The results are stored in hd5 file in the same directory where the video resides."
      ]
    },
    {
      "cell_type": "code",
      "execution_count": null,
      "metadata": {
        "colab": {
          "base_uri": "https://localhost:8080/",
          "height": 1000
        },
        "id": "Y_LZiS_0oEJl",
        "outputId": "c37895bc-5d14-45f0-988f-b5c415facc04"
      },
      "outputs": [],
      "source": [
        "deeplabcut.analyze_videos(path_config_file,videofile_path, videotype=VideoType, shuffle=shuffle)"
      ]
    },
    {
      "cell_type": "markdown",
      "metadata": {
        "id": "8GTiuJESoEKH"
      },
      "source": [
        "## Plot the trajectories of the analyzed videos:\n",
        "This function plots the trajectories of all the body parts across the entire video. Each body part is identified by a unique color."
      ]
    },
    {
      "cell_type": "code",
      "execution_count": null,
      "metadata": {
        "colab": {
          "base_uri": "https://localhost:8080/",
          "height": 338
        },
        "id": "-2Cd38CsI_49",
        "outputId": "387f7e6d-8d02-45e1-c674-116b532a37e5"
      },
      "outputs": [],
      "source": [
        "!pip install mpld3"
      ]
    },
    {
      "cell_type": "code",
      "execution_count": null,
      "metadata": {
        "colab": {
          "base_uri": "https://localhost:8080/",
          "height": 71
        },
        "id": "gX21zZbXoEKJ",
        "outputId": "3599d0cc-9d78-4ed2-b1e2-0e474dbe57e3"
      },
      "outputs": [],
      "source": [
        "deeplabcut.plot_trajectories(path_config_file,videofile_path, videotype=VideoType, shuffle=shuffle)"
      ]
    },
    {
      "cell_type": "markdown",
      "metadata": {
        "id": "nr6a6pZIqWvE"
      },
      "source": [
        "You can view these graphs in content folder, but they are also available for visualization within the notebook. Execute the following cell and attempt to interpret the plots.\n",
        "\n",
        "*Is the performance of the model on our data satisfactory?*\n",
        "\n",
        "Additionally, update the plot paths to visualize the graphs from the other videos."
      ]
    },
    {
      "cell_type": "code",
      "execution_count": null,
      "metadata": {
        "colab": {
          "base_uri": "https://localhost:8080/",
          "height": 501
        },
        "id": "O_59sDbGprdv",
        "outputId": "3279ae05-babb-48d5-b9d3-fd9026ee5d10"
      },
      "outputs": [],
      "source": [
        "import matplotlib.pyplot as plt\n",
        "from PIL import Image\n",
        "import mpld3\n",
        "from IPython.core.display import display, HTML\n",
        "\n",
        "\n",
        "# Define paths to the images\n",
        "root = '/content/behavior&calcium-imaging-workshop/data/behavior-videos/plot-poses/day0'\n",
        "plot_likelihood_path = f'{root}/plot-likelihood.png'\n",
        "hist_path = f'{root}/hist.png'\n",
        "plot_path = f'{root}/plot.png'\n",
        "trajectory_path = f'{root}/trajectory.png'\n",
        "\n",
        "# Create a figure and axis\n",
        "fig, axes = plt.subplots(2, 2)\n",
        "\n",
        "# Read and plot each image on the corresponding axis\n",
        "images = [plot_likelihood_path, hist_path, plot_path, trajectory_path]\n",
        "titles = ['Plot Likelihood', 'Histogram', 'Plot', 'Trajectory']\n",
        "\n",
        "for ax, image, title in zip(axes.ravel(), images, titles):\n",
        "    img = Image.open(image)\n",
        "    ax.imshow(img)\n",
        "    ax.set_title(title)\n",
        "    ax.axis('off')\n",
        "\n",
        "# Convert the Matplotlib figure to an interactive HTML plot using mpld3\n",
        "html_plot = mpld3.fig_to_html(fig)\n",
        "\n",
        "# Display the HTML plot\n",
        "display(HTML(html_plot))"
      ]
    },
    {
      "cell_type": "markdown",
      "metadata": {
        "id": "pqaCw15v8EmB"
      },
      "source": [
        "Now you can look at the plot-poses file and check the \"plot-likelihood.png\" might want to change the \"p-cutoff\" in the config.yaml file so that you have only high confidnece points plotted in the video. i.e. ~0.8 or 0.9. The current default is 0.4."
      ]
    },
    {
      "cell_type": "markdown",
      "metadata": {
        "id": "pCrUvQIvoEKD"
      },
      "source": [
        "## Create labeled video:\n",
        "This function is for visualiztion purpose and can be used to create a video in .mp4 format with labels predicted by the network. This video is saved in the same directory where the original video resides."
      ]
    },
    {
      "cell_type": "code",
      "execution_count": null,
      "metadata": {
        "colab": {
          "base_uri": "https://localhost:8080/",
          "height": 269
        },
        "id": "6aDF7Q7KoEKE",
        "outputId": "f72648b9-4032-4e16-a04b-30a57fa15808"
      },
      "outputs": [],
      "source": [
        "deeplabcut.create_labeled_video(path_config_file,videofile_path, videotype=VideoType, shhuffle=shuffle)"
      ]
    },
    {
      "cell_type": "code",
      "execution_count": null,
      "metadata": {
        "colab": {
          "base_uri": "https://localhost:8080/",
          "height": 501
        },
        "id": "JLckBInuqIxt",
        "outputId": "72c0b2e3-9fc7-427f-e240-ae73d230e43d"
      },
      "outputs": [],
      "source": [
        "import cv2\n",
        "import matplotlib.pyplot as plt\n",
        "\n",
        "# Define the path to the labeled video\n",
        "labelled_video_path = '/content/behavior&calcium-imaging-workshop/data/behavior-videos/day0croppedshortdownsampledDLC_resnet50_ss_vs_sscwJan30shuffle5_100100_p60_labeled.mp4'\n",
        "\n",
        "# Read the video\n",
        "video_capture = cv2.VideoCapture(labelled_video_path)\n",
        "\n",
        "# Read the first frame\n",
        "ret, frame = video_capture.read()\n",
        "\n",
        "# Convert the frame from BGR to RGB (OpenCV reads images in BGR format)\n",
        "frame_rgb = cv2.cvtColor(frame, cv2.COLOR_BGR2RGB)\n",
        "\n",
        "# Create a figure and axis\n",
        "fig, ax = plt.subplots()\n",
        "\n",
        "# Display the frame using matplotlib\n",
        "ax.imshow(frame_rgb)\n",
        "ax.axis('off')  # Hide axes\n",
        "\n",
        "# Convert the Matplotlib figure to an interactive HTML plot using mpld3\n",
        "html_plot = mpld3.fig_to_html(fig)\n",
        "\n",
        "# Display the HTML plot\n",
        "display(HTML(html_plot))\n"
      ]
    }
  ],
  "metadata": {
    "accelerator": "GPU",
    "colab": {
      "gpuType": "T4",
      "name": "Copy of latest_Colab_TrainNetwork_VideoAnalysis.ipynb",
      "provenance": []
    },
    "kernelspec": {
      "display_name": "Python 3",
      "name": "python3"
    },
    "language_info": {
      "name": "python",
      "version": "3.8.12"
    },
    "vscode": {
      "interpreter": {
        "hash": "70cad038f2bddb56e8a0ba66c48b76ebce20579892bf83e71733a81977e3ceea"
      }
    }
  },
  "nbformat": 4,
  "nbformat_minor": 0
}
